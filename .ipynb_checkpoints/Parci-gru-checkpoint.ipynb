{
 "cells": [
  {
   "cell_type": "code",
   "execution_count": 3,
   "id": "3cd53250",
   "metadata": {},
   "outputs": [
    {
     "data": {
      "text/plain": [
       "'C:\\\\Users\\\\isaac\\\\OneDrive\\\\Documents\\\\GitHub\\\\parcial-grupal'"
      ]
     },
     "execution_count": 3,
     "metadata": {},
     "output_type": "execute_result"
    }
   ],
   "source": [
    "import pandas as pd\n",
    "import os\n",
    "os.getcwd()"
   ]
  },
  {
   "cell_type": "code",
   "execution_count": 2,
   "id": "c7f486f4",
   "metadata": {},
   "outputs": [],
   "source": [
    "os.chdir(\"\")"
   ]
  },
  {
   "cell_type": "code",
   "execution_count": 6,
   "id": "ca26505c",
   "metadata": {},
   "outputs": [
    {
     "name": "stdout",
     "output_type": "stream",
     "text": [
      "Porcentaje de nucleótidos C o G: 39.24%\n"
     ]
    }
   ],
   "source": [
    "#primera pregunta\n",
    "import re\n",
    "\n",
    "with open('gene.fna', 'r') as file:\n",
    "    data = file.read()\n",
    "\n",
    "sequences= ''.join(data.split('\\n')[1:])\n",
    "\n",
    "# Contamos los nucleótidos C y G\n",
    "c = len(re.findall(r'C', sequences))\n",
    "g = len(re.findall(r'G', sequences))\n",
    "total = len(sequences)\n",
    "\n",
    "# Calcular la suma de los dos nucleótidos ya que nos dice o.\n",
    "cg = ((c+ g) / total) * 100\n",
    "\n",
    "print(f'Porcentaje de nucleótidos C o G: {cg:.2f}%')"
   ]
  },
  {
   "cell_type": "code",
   "execution_count": 7,
   "id": "555bc0b7",
   "metadata": {},
   "outputs": [
    {
     "name": "stdout",
     "output_type": "stream",
     "text": [
      "Número total de CCG o GCC: 1728\n"
     ]
    }
   ],
   "source": [
    "#segunda pregunta\n",
    "# Buscar todas las secuencias de tres nucleótidos que contienen CCG o GCC\n",
    "ccg = len(re.findall(r'CCG', sequences))\n",
    "gcc = len(re.findall(r'GCC', sequences))\n",
    "\n",
    "total= ccg+ gcc\n",
    "\n",
    "print(f'Número total de CCG o GCC: {total}')"
   ]
  },
  {
   "cell_type": "code",
   "execution_count": 8,
   "id": "86c745b8",
   "metadata": {},
   "outputs": [
    {
     "name": "stdout",
     "output_type": "stream",
     "text": [
      "Número de secuencias GAATTC: 32\n"
     ]
    }
   ],
   "source": [
    "#Tercera pregunta\n",
    "gaattc_count = len(re.findall(r'GAATTC', sequences))\n",
    "\n",
    "print(f'Número de secuencias GAATTC: {gaattc_count}')"
   ]
  }
 ],
 "metadata": {
  "kernelspec": {
   "display_name": "Python 3 (ipykernel)",
   "language": "python",
   "name": "python3"
  },
  "language_info": {
   "codemirror_mode": {
    "name": "ipython",
    "version": 3
   },
   "file_extension": ".py",
   "mimetype": "text/x-python",
   "name": "python",
   "nbconvert_exporter": "python",
   "pygments_lexer": "ipython3",
   "version": "3.11.9"
  }
 },
 "nbformat": 4,
 "nbformat_minor": 5
}
