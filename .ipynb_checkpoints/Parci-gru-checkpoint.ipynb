{
 "cells": [
  {
   "cell_type": "code",
   "execution_count": 1,
   "id": "76a1a8f0",
   "metadata": {},
   "outputs": [
    {
     "data": {
      "text/plain": [
       "'C:\\\\Users\\\\Manolo\\\\Desktop\\\\p\\\\parcial-grupal'"
      ]
     },
     "execution_count": 1,
     "metadata": {},
     "output_type": "execute_result"
    }
   ],
   "source": [
    "import pandas as pd\n",
    "import os\n",
    "os.getcwd()"
   ]
  },
  {
   "cell_type": "code",
   "execution_count": 2,
   "id": "1c719677",
   "metadata": {},
   "outputs": [],
   "source": [
    "os.chdir(\"C:\\\\Users\\\\Manolo\\\\Desktop\\\\p\\\\parcial-grupal\")"
   ]
  },
  {
   "cell_type": "code",
   "execution_count": 5,
   "id": "ca26505c",
   "metadata": {},
   "outputs": [
    {
     "name": "stdout",
     "output_type": "stream",
     "text": [
      "Porcentaje de nucleótidos C o G: 39.24%\n"
     ]
    }
   ],
   "source": [
    "#primera pregunta\n",
    "import re\n",
    "\n",
    "with open('gene.fna', 'r') as file:\n",
    "    data = file.read()\n",
    "\n",
    "secuencias= ''.join(data.split('\\n')[1:])\n",
    "\n",
    "# Contamos los nucleótidos C y G\n",
    "c = len(re.findall(r'C', secuencias))\n",
    "g = len(re.findall(r'G', secuencias))\n",
    "total = len(sequences)\n",
    "\n",
    "# Calcular la suma de los dos nucleótidos ya que nos dice o.\n",
    "cg = ((c+ g) / total) * 100\n",
    "\n",
    "print(f'Porcentaje de nucleótidos C o G: {cg:.2f}%')"
   ]
  }
 ],
 "metadata": {
  "kernelspec": {
   "display_name": "Python 3 (ipykernel)",
   "language": "python",
   "name": "python3"
  },
  "language_info": {
   "codemirror_mode": {
    "name": "ipython",
    "version": 3
   },
   "file_extension": ".py",
   "mimetype": "text/x-python",
   "name": "python",
   "nbconvert_exporter": "python",
   "pygments_lexer": "ipython3",
   "version": "3.9.12"
  }
 },
 "nbformat": 4,
 "nbformat_minor": 5
}
